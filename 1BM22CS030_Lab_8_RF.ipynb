{
  "nbformat": 4,
  "nbformat_minor": 0,
  "metadata": {
    "colab": {
      "provenance": []
    },
    "kernelspec": {
      "name": "python3",
      "display_name": "Python 3"
    },
    "language_info": {
      "name": "python"
    }
  },
  "cells": [
    {
      "cell_type": "code",
      "execution_count": 1,
      "metadata": {
        "colab": {
          "base_uri": "https://localhost:8080/"
        },
        "id": "6IniNMNZo94J",
        "outputId": "d816408b-f230-46d4-b78d-da3389d52f8a"
      },
      "outputs": [
        {
          "output_type": "stream",
          "name": "stdout",
          "text": [
            "Default n_estimators=10 Score: 1.0000\n",
            "Best n_estimators=1 Score: 1.0000\n"
          ]
        }
      ],
      "source": [
        "from sklearn.datasets import load_iris\n",
        "from sklearn.ensemble import RandomForestClassifier\n",
        "from sklearn.model_selection import train_test_split\n",
        "import matplotlib.pyplot as plt\n",
        "\n",
        "# Load Iris dataset\n",
        "iris = load_iris()\n",
        "X_iris = iris.data\n",
        "y_iris = iris.target\n",
        "\n",
        "# Split data\n",
        "X_train_iris, X_test_iris, y_train_iris, y_test_iris = train_test_split(X_iris, y_iris, test_size=0.2, random_state=42)\n",
        "\n",
        "# Default model with n_estimators=10\n",
        "rf_default = RandomForestClassifier(n_estimators=10, random_state=42)\n",
        "rf_default.fit(X_train_iris, y_train_iris)\n",
        "default_score = rf_default.score(X_test_iris, y_test_iris)\n",
        "print(f\"Default n_estimators=10 Score: {default_score:.4f}\")\n",
        "\n",
        "# Fine-tune n_estimators\n",
        "scores = {}\n",
        "for n in range(1, 101):\n",
        "    rf = RandomForestClassifier(n_estimators=n, random_state=42)\n",
        "    rf.fit(X_train_iris, y_train_iris)\n",
        "    scores[n] = rf.score(X_test_iris, y_test_iris)\n",
        "\n",
        "best_n = max(scores, key=scores.get)\n",
        "best_score = scores[best_n]\n",
        "print(f\"Best n_estimators={best_n} Score: {best_score:.4f}\")\n",
        "\n"
      ]
    },
    {
      "cell_type": "code",
      "source": [
        "import pandas as pd\n",
        "from sklearn.pipeline import Pipeline\n",
        "from sklearn.impute import SimpleImputer\n",
        "from sklearn.preprocessing import OneHotEncoder\n",
        "from sklearn.compose import ColumnTransformer\n",
        "from sklearn.metrics import accuracy_score, confusion_matrix\n",
        "\n",
        "# Load Titanic data\n",
        "train_df = pd.read_csv(\"train.csv\")\n",
        "\n",
        "# Drop irrelevant columns\n",
        "train_df_cleaned = train_df.drop(columns=[\"PassengerId\", \"Name\", \"Ticket\", \"Cabin\"])\n",
        "\n",
        "# Features and target\n",
        "X = train_df_cleaned.drop(columns=\"Survived\")\n",
        "y = train_df_cleaned[\"Survived\"]\n",
        "\n",
        "# Categorical and numerical columns\n",
        "categorical_cols = [\"Sex\", \"Embarked\"]\n",
        "numerical_cols = [col for col in X.columns if col not in categorical_cols]\n",
        "\n",
        "# Preprocessing\n",
        "numerical_transformer = SimpleImputer(strategy=\"mean\")\n",
        "categorical_transformer = Pipeline(steps=[\n",
        "    (\"imputer\", SimpleImputer(strategy=\"most_frequent\")),\n",
        "    (\"onehot\", OneHotEncoder(handle_unknown=\"ignore\"))\n",
        "])\n",
        "\n",
        "# Combine transformers\n",
        "preprocessor = ColumnTransformer(transformers=[\n",
        "    (\"num\", numerical_transformer, numerical_cols),\n",
        "    (\"cat\", categorical_transformer, categorical_cols)\n",
        "])\n",
        "\n",
        "# Full pipeline\n",
        "clf_pipeline = Pipeline(steps=[\n",
        "    (\"preprocessor\", preprocessor),\n",
        "    (\"classifier\", RandomForestClassifier(random_state=42))\n",
        "])\n",
        "\n",
        "# Split data\n",
        "X_train, X_test, y_train, y_test = train_test_split(X, y, test_size=0.2, random_state=42)\n",
        "\n",
        "# Train and evaluate\n",
        "clf_pipeline.fit(X_train, y_train)\n",
        "y_pred = clf_pipeline.predict(X_test)\n",
        "\n",
        "# Metrics\n",
        "acc = accuracy_score(y_test, y_pred)\n",
        "cm = confusion_matrix(y_test, y_pred)\n",
        "\n",
        "print(f\"\\nTitanic Dataset Accuracy: {acc:.4f}\")\n",
        "print(\"Confusion Matrix:\")\n",
        "print(cm)\n"
      ],
      "metadata": {
        "colab": {
          "base_uri": "https://localhost:8080/"
        },
        "id": "1aAfAth_sDBm",
        "outputId": "c0bb5711-d9ad-4c11-c562-6ceba4196a51"
      },
      "execution_count": 2,
      "outputs": [
        {
          "output_type": "stream",
          "name": "stdout",
          "text": [
            "\n",
            "Titanic Dataset Accuracy: 0.8156\n",
            "Confusion Matrix:\n",
            "[[91 14]\n",
            " [19 55]]\n"
          ]
        }
      ]
    }
  ]
}