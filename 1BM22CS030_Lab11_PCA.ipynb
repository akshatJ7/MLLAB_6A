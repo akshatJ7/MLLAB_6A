{
  "nbformat": 4,
  "nbformat_minor": 0,
  "metadata": {
    "colab": {
      "provenance": []
    },
    "kernelspec": {
      "name": "python3",
      "display_name": "Python 3"
    },
    "language_info": {
      "name": "python"
    }
  },
  "cells": [
    {
      "cell_type": "code",
      "execution_count": 1,
      "metadata": {
        "colab": {
          "base_uri": "https://localhost:8080/"
        },
        "id": "IMbnWaqB0Imn",
        "outputId": "9e3460d4-2ec4-4b01-b6bc-7b0c817063e0"
      },
      "outputs": [
        {
          "output_type": "stream",
          "name": "stdout",
          "text": [
            "Accuracy with PCA (2 components): 0.5389\n"
          ]
        }
      ],
      "source": [
        "from sklearn.datasets import load_digits\n",
        "from sklearn.decomposition import PCA\n",
        "from sklearn.linear_model import LogisticRegression\n",
        "from sklearn.model_selection import train_test_split\n",
        "from sklearn.preprocessing import StandardScaler\n",
        "from sklearn.metrics import accuracy_score\n",
        "\n",
        "# Step 1: Load the digits dataset\n",
        "digits = load_digits()\n",
        "X, y = digits.data, digits.target\n",
        "\n",
        "# Step 2: Perform scaling\n",
        "scaler = StandardScaler()\n",
        "X_scaled = scaler.fit_transform(X)\n",
        "\n",
        "# Step 3: Apply PCA with 2 components\n",
        "pca = PCA(n_components=2)\n",
        "X_pca = pca.fit_transform(X_scaled)\n",
        "\n",
        "# Step 4: Split data into training and testing sets (80%-20%)\n",
        "X_train, X_test, y_train, y_test = train_test_split(X_pca, y, test_size=0.2, random_state=42)\n",
        "\n",
        "# Step 5: Train a logistic regression model\n",
        "logreg = LogisticRegression(max_iter=1000)\n",
        "logreg.fit(X_train, y_train)\n",
        "\n",
        "# Step 6: Make predictions and calculate accuracy score\n",
        "y_pred = logreg.predict(X_test)\n",
        "accuracy = accuracy_score(y_test, y_pred)\n",
        "\n",
        "print(f\"Accuracy with PCA (2 components): {accuracy:.4f}\")\n"
      ]
    },
    {
      "cell_type": "code",
      "source": [
        "import pandas as pd\n",
        "import numpy as np\n",
        "from sklearn.preprocessing import StandardScaler, LabelEncoder, OneHotEncoder\n",
        "from sklearn.model_selection import train_test_split\n",
        "from sklearn.ensemble import RandomForestClassifier\n",
        "from sklearn.linear_model import LogisticRegression\n",
        "from sklearn.svm import SVC\n",
        "from sklearn.metrics import accuracy_score\n",
        "from sklearn.decomposition import PCA\n",
        "from scipy import stats\n",
        "\n",
        "# Step 1: Load the dataset\n",
        "df = pd.read_csv('heart (1).csv')\n",
        "\n",
        "# Step 2: Remove outliers using Z-score\n",
        "df_numeric = df.select_dtypes(include=[np.number])\n",
        "z_scores = np.abs(stats.zscore(df_numeric))\n",
        "df_no_outliers = df[(z_scores < 3).all(axis=1)]\n",
        "\n",
        "# Step 3: Convert text columns to numbers\n",
        "df_processed = df_no_outliers.copy()\n",
        "for col in df_processed.select_dtypes(include=['object']).columns:\n",
        "    if df_processed[col].nunique() == 2:\n",
        "        le = LabelEncoder()\n",
        "        df_processed[col] = le.fit_transform(df_processed[col])\n",
        "    else:\n",
        "        df_processed = pd.get_dummies(df_processed, columns=[col])\n",
        "\n",
        "# Separate features and target\n",
        "X = df_processed.drop('HeartDisease', axis=1)\n",
        "y = df_processed['HeartDisease']\n",
        "\n",
        "# Step 4: Apply scaling\n",
        "scaler = StandardScaler()\n",
        "X_scaled = scaler.fit_transform(X)\n",
        "\n",
        "# Step 5: Train models and compare accuracies\n",
        "X_train, X_test, y_train, y_test = train_test_split(X_scaled, y, test_size=0.2, random_state=42)\n",
        "\n",
        "models = {\n",
        "    'Logistic Regression': LogisticRegression(max_iter=1000),\n",
        "    'SVM': SVC(),\n",
        "    'Random Forest': RandomForestClassifier()\n",
        "}\n",
        "\n",
        "print(\"Accuracy without PCA:\")\n",
        "for name, model in models.items():\n",
        "    model.fit(X_train, y_train)\n",
        "    y_pred = model.predict(X_test)\n",
        "    print(f\"{name}: {accuracy_score(y_test, y_pred):.4f}\")\n",
        "\n",
        "# Step 6: Use PCA for dimensionality reduction\n",
        "pca = PCA(n_components=5)  # You can tune this value\n",
        "X_pca = pca.fit_transform(X_scaled)\n",
        "\n",
        "X_train_pca, X_test_pca, y_train, y_test = train_test_split(X_pca, y, test_size=0.2, random_state=42)\n",
        "\n",
        "print(\"\\nAccuracy with PCA:\")\n",
        "for name, model in models.items():\n",
        "    model.fit(X_train_pca, y_train)\n",
        "    y_pred_pca = model.predict(X_test_pca)\n",
        "    print(f\"{name}: {accuracy_score(y_test, y_pred_pca):.4f}\")\n"
      ],
      "metadata": {
        "colab": {
          "base_uri": "https://localhost:8080/"
        },
        "id": "EQk0EvjY0t2d",
        "outputId": "6d18bdb1-3e77-46d5-92eb-373814f23d19"
      },
      "execution_count": null,
      "outputs": [
        {
          "output_type": "stream",
          "name": "stdout",
          "text": [
            "Accuracy without PCA:\n",
            "Logistic Regression: 0.8833\n",
            "SVM: 0.8778\n",
            "Random Forest: 0.8833\n",
            "\n",
            "Accuracy with PCA:\n",
            "Logistic Regression: 0.8667\n",
            "SVM: 0.8556\n",
            "Random Forest: 0.8722\n"
          ]
        }
      ]
    }
  ]
}