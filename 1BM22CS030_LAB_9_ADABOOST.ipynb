{
  "nbformat": 4,
  "nbformat_minor": 0,
  "metadata": {
    "colab": {
      "provenance": []
    },
    "kernelspec": {
      "name": "python3",
      "display_name": "Python 3"
    },
    "language_info": {
      "name": "python"
    }
  },
  "cells": [
    {
      "cell_type": "code",
      "source": [
        "import pandas as pd\n",
        "from sklearn.model_selection import train_test_split\n",
        "from sklearn.preprocessing import LabelEncoder\n",
        "from sklearn.ensemble import AdaBoostClassifier\n",
        "from sklearn.tree import DecisionTreeClassifier\n",
        "from sklearn.linear_model import LogisticRegression\n",
        "from sklearn.metrics import accuracy_score, confusion_matrix\n",
        "from sklearn.ensemble import  RandomForestClassifier\n",
        "# Load the data (assume \"income.csv\" is already downloaded)\n",
        "df = pd.read_csv('income.csv')\n",
        "\n",
        "# Let's check the columns to see what we're dealing with\n",
        "print(df.head())\n",
        "\n",
        "# Preprocessing: Encode categorical data if necessary (in this case 'income_level' is categorical)\n",
        "encoder = LabelEncoder()\n",
        "df['income_level'] = encoder.fit_transform(df['income_level'])\n",
        "\n",
        "# Splitting the data into features (X) and target (y)\n",
        "X = df.drop('income_level', axis=1)\n",
        "y = df['income_level']\n",
        "\n",
        "# Split the data into 80% training and 20% testing\n",
        "X_train, X_test, y_train, y_test = train_test_split(X, y, test_size=0.2, random_state=42)\n"
      ],
      "metadata": {
        "colab": {
          "base_uri": "https://localhost:8080/"
        },
        "id": "MJEvfv1n3NcK",
        "outputId": "cbfef39e-c8a1-4c0f-f027-494c8720914f"
      },
      "execution_count": 4,
      "outputs": [
        {
          "output_type": "stream",
          "name": "stdout",
          "text": [
            "   age  fnlwgt  education_num  capital_gain  capital_loss  hours_per_week  \\\n",
            "0   39   77516             13          2174             0              40   \n",
            "1   50   83311             13             0             0              13   \n",
            "2   38  215646              9             0             0              40   \n",
            "3   53  234721              7             0             0              40   \n",
            "4   28  338409             13             0             0              40   \n",
            "\n",
            "   income_level  \n",
            "0             0  \n",
            "1             0  \n",
            "2             0  \n",
            "3             0  \n",
            "4             0  \n"
          ]
        }
      ]
    },
    {
      "cell_type": "code",
      "source": [
        "# Initialize the AdaBoost model with Random Forest as the base classifier\n",
        "ada_boost = AdaBoostClassifier(RandomForestClassifier(n_estimators=10, max_depth=5, random_state=42), n_estimators=50, learning_rate=1.0)\n",
        "\n",
        "# Train the AdaBoost model\n",
        "ada_boost.fit(X_train, y_train)\n",
        "\n",
        "# Predictions\n",
        "y_pred = ada_boost.predict(X_test)\n",
        "\n",
        "# Evaluate accuracy and confusion matrix\n",
        "accuracy = accuracy_score(y_test, y_pred)\n",
        "conf_matrix = confusion_matrix(y_test, y_pred)\n",
        "\n",
        "print(f\"Accuracy: {accuracy}\")\n",
        "print(f\"Confusion Matrix:\\n{conf_matrix}\")\n"
      ],
      "metadata": {
        "colab": {
          "base_uri": "https://localhost:8080/"
        },
        "id": "NwrLCZAY3P-5",
        "outputId": "ac7edab1-43c1-499f-8ff1-068427c1de5f"
      },
      "execution_count": 5,
      "outputs": [
        {
          "output_type": "stream",
          "name": "stdout",
          "text": [
            "Accuracy: 0.8346811342000204\n",
            "Confusion Matrix:\n",
            "[[7033  381]\n",
            " [1234 1121]]\n"
          ]
        }
      ]
    },
    {
      "cell_type": "code",
      "source": [
        "from sklearn.datasets import load_iris\n",
        "from sklearn.model_selection import train_test_split\n",
        "from sklearn.ensemble import AdaBoostClassifier\n",
        "from sklearn.tree import DecisionTreeClassifier\n",
        "from sklearn.metrics import accuracy_score\n",
        "\n",
        "# Load the Iris dataset\n",
        "iris = load_iris()\n",
        "X = iris.data\n",
        "y = iris.target\n",
        "\n",
        "# Split the dataset into 80% training and 20% testing\n",
        "X_train, X_test, y_train, y_test = train_test_split(X, y, test_size=0.2, random_state=42)\n",
        "\n",
        "base_classifier = RandomForestClassifier(n_estimators=10, max_depth=5, random_state=42)\n",
        "# Initialize AdaBoost with Decision Tree as base classifier\n",
        "ada_boost = AdaBoostClassifier(base_classifier, n_estimators=50)\n",
        "\n",
        "# Train the model\n",
        "ada_boost.fit(X_train, y_train)\n",
        "\n",
        "# Evaluate accuracy on the test set\n",
        "y_pred = ada_boost.predict(X_test)\n",
        "accuracy = accuracy_score(y_test, y_pred)\n",
        "\n",
        "print(f\"Accuracy of AdaBoost on Iris dataset: {accuracy}\")\n"
      ],
      "metadata": {
        "colab": {
          "base_uri": "https://localhost:8080/"
        },
        "id": "qJjNBY-M3SQp",
        "outputId": "c7f7c5c8-4688-4b48-b25c-dea381912843"
      },
      "execution_count": 6,
      "outputs": [
        {
          "output_type": "stream",
          "name": "stdout",
          "text": [
            "Accuracy of AdaBoost on Iris dataset: 1.0\n"
          ]
        }
      ]
    },
    {
      "cell_type": "code",
      "source": [
        "# Varying n_estimators and measuring the accuracy\n",
        "estimators = [10, 50, 100, 200, 500]\n",
        "for n in estimators:\n",
        "    ada_boost = AdaBoostClassifier(base_classifier, n_estimators=n)\n",
        "    ada_boost.fit(X_train, y_train)\n",
        "    y_pred = ada_boost.predict(X_test)\n",
        "    accuracy = accuracy_score(y_test, y_pred)\n",
        "    print(f\"Accuracy with n_estimators={n}: {accuracy}\")\n"
      ],
      "metadata": {
        "colab": {
          "base_uri": "https://localhost:8080/"
        },
        "id": "2wegDzFt3VP5",
        "outputId": "80eb9bb2-9748-42fd-aec2-65c2ef11a913"
      },
      "execution_count": 7,
      "outputs": [
        {
          "output_type": "stream",
          "name": "stdout",
          "text": [
            "Accuracy with n_estimators=10: 1.0\n",
            "Accuracy with n_estimators=50: 1.0\n",
            "Accuracy with n_estimators=100: 1.0\n",
            "Accuracy with n_estimators=200: 1.0\n",
            "Accuracy with n_estimators=500: 1.0\n"
          ]
        }
      ]
    },
    {
      "cell_type": "code",
      "source": [
        "# Varying n_estimators and learning_rate\n",
        "learning_rates = [0.1, 0.5, 1.0, 1.5]\n",
        "n_estimators_values = [50, 100, 200]\n",
        "\n",
        "for lr in learning_rates:\n",
        "    for n in n_estimators_values:\n",
        "        ada_boost = AdaBoostClassifier(base_classifier,\n",
        "                                      n_estimators=n, learning_rate=lr)\n",
        "        ada_boost.fit(X_train, y_train)\n",
        "        y_pred = ada_boost.predict(X_test)\n",
        "        accuracy = accuracy_score(y_test, y_pred)\n",
        "        print(f\"Accuracy with n_estimators={n} and learning_rate={lr}: {accuracy}\")\n"
      ],
      "metadata": {
        "colab": {
          "base_uri": "https://localhost:8080/"
        },
        "id": "vc9_6jCP3Xj5",
        "outputId": "fd3ffdf2-7b3f-4a4c-da73-ede8079b9f97"
      },
      "execution_count": 8,
      "outputs": [
        {
          "output_type": "stream",
          "name": "stdout",
          "text": [
            "Accuracy with n_estimators=50 and learning_rate=0.1: 1.0\n",
            "Accuracy with n_estimators=100 and learning_rate=0.1: 1.0\n",
            "Accuracy with n_estimators=200 and learning_rate=0.1: 1.0\n",
            "Accuracy with n_estimators=50 and learning_rate=0.5: 1.0\n",
            "Accuracy with n_estimators=100 and learning_rate=0.5: 1.0\n",
            "Accuracy with n_estimators=200 and learning_rate=0.5: 1.0\n",
            "Accuracy with n_estimators=50 and learning_rate=1.0: 1.0\n",
            "Accuracy with n_estimators=100 and learning_rate=1.0: 1.0\n",
            "Accuracy with n_estimators=200 and learning_rate=1.0: 1.0\n",
            "Accuracy with n_estimators=50 and learning_rate=1.5: 1.0\n",
            "Accuracy with n_estimators=100 and learning_rate=1.5: 1.0\n",
            "Accuracy with n_estimators=200 and learning_rate=1.5: 1.0\n"
          ]
        }
      ]
    },
    {
      "cell_type": "code",
      "source": [
        "from sklearn.linear_model import LogisticRegression\n",
        "\n",
        "# Using Logistic Regression as base estimator in AdaBoost\n",
        "ada_boost_lr = AdaBoostClassifier(LogisticRegression(max_iter=1000), n_estimators=50)\n",
        "ada_boost_lr.fit(X_train, y_train)\n",
        "y_pred_lr = ada_boost_lr.predict(X_test)\n",
        "accuracy_lr = accuracy_score(y_test, y_pred_lr)\n",
        "print(f\"Accuracy with Logistic Regression base estimator: {accuracy_lr}\")\n"
      ],
      "metadata": {
        "colab": {
          "base_uri": "https://localhost:8080/"
        },
        "id": "R0jnlvc23fWh",
        "outputId": "4dc3f5db-b687-4057-e454-541ece0f43eb"
      },
      "execution_count": 9,
      "outputs": [
        {
          "output_type": "stream",
          "name": "stdout",
          "text": [
            "Accuracy with Logistic Regression base estimator: 0.9333333333333333\n"
          ]
        }
      ]
    },
    {
      "cell_type": "code",
      "source": [
        "# Using Decision Tree as base estimator in AdaBoost\n",
        "ada_boost_tree = AdaBoostClassifier(DecisionTreeClassifier(max_depth=1), n_estimators=50)\n",
        "ada_boost_tree.fit(X_train, y_train)\n",
        "y_pred_tree = ada_boost_tree.predict(X_test)\n",
        "accuracy_tree = accuracy_score(y_test, y_pred_tree)\n",
        "print(f\"Accuracy with Decision Tree base estimator: {accuracy_tree}\")\n"
      ],
      "metadata": {
        "colab": {
          "base_uri": "https://localhost:8080/"
        },
        "id": "kOz9aWQM3gNh",
        "outputId": "b0e7fae3-30ac-49b3-d90d-f64e1b06ecbe"
      },
      "execution_count": 10,
      "outputs": [
        {
          "output_type": "stream",
          "name": "stdout",
          "text": [
            "Accuracy with Decision Tree base estimator: 0.9333333333333333\n"
          ]
        }
      ]
    }
  ]
}